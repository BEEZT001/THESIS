{
 "cells": [
  {
   "cell_type": "code",
   "execution_count": 125,
   "id": "e578a1ed-0e1b-4a3d-87e2-daa3e35f8c48",
   "metadata": {},
   "outputs": [],
   "source": [
    "\"\"\"\n",
    "- program what happens if in a rollout given the state no action is possible; i.e. the rollout is completely blocked \n",
    "\"\"\"\n",
    "\n",
    "import copy \n",
    "import numpy as np\n",
    "from tqdm import tqdm\n",
    "import pandas as pd\n",
    "np.random.seed(123) #same random results (reproducable only for development)\n",
    "\n",
    "#READING IN & PREPROCESSING INSTANCE DATA \n",
    "\n",
    "instance_dim = pd.read_csv('data/a15-120hetIUY.txt', sep=\" \", header=None, nrows=1)\n",
    "num_vehs=instance_dim.iat[0,0]\n",
    "num_reqs= instance_dim.iat[0,1]\n",
    "\n",
    "instance_vehicles= pd.read_csv('data/a15-120hetIUY.txt', sep=\" \", header=None,skiprows=1, nrows=15) #FC: nrows = num_vehs; better \n",
    "\n",
    "\n",
    "instance_vertices= pd.read_csv('data/a15-120hetIUY.txt', sep='\\t', header=None,skiprows=16) #FC: skiprows = num_vehs+1; \n",
    "instance_vertices.columns= ['id', 'x_coord', 'y_coord', 'service_time', 'max_ride_time', 'demand_resource_1', 'demand_resource_2', 'demand_resource_3', 'demand_resource_4', 'earliest_tw', 'latest_tw']\n",
    "instance_vertices.drop('id', inplace=True, axis=1)\n",
    "instance_vehicles.columns=['route_duration', 'capacity_resource_1', 'capacity_resource_2', 'capacity_resource_3', 'capacity_resource_4']\n",
    "\n",
    "instance_vehicles2=instance_vehicles.to_numpy()\n",
    "route_duration= instance_vehicles2[:,0]  \n",
    "Q=instance_vehicles2[:,1:5] \n",
    "\n",
    "instance_vertices2= instance_vertices.to_numpy()\n",
    "x_co=instance_vertices2[:,0] \n",
    "y_co=instance_vertices2[:,1] \n",
    "s= instance_vertices2[:,2] \n",
    "L=instance_vertices2[:,3] \n",
    "q=instance_vertices2[:,4:8] \n",
    "e=instance_vertices2[:,8] \n",
    "l=instance_vertices2[:,9] \n",
    "R = [0,1,2,3] \n"
   ]
  },
  {
   "cell_type": "code",
   "execution_count": 126,
   "id": "ddfd2abe-ff57-46b9-afce-6e6f1fed2c14",
   "metadata": {},
   "outputs": [],
   "source": [
    "depot_co = np.zeros(shape=(num_vehs,2)) #http://alpha.uhasselt.be/kris.braekers/\n",
    "x_co_depots = [-5, 5, -5, 5] \n",
    "y_co_depots = [-5, 5, 5, -5]\n",
    "\n",
    "for i in range(num_vehs):\n",
    "    if i<4:\n",
    "        depot_co[i]=np.array((x_co_depots[i],y_co_depots[i]))\n",
    "    elif i>3 and i<8:\n",
    "        depot_co[i]=np.array((x_co_depots[i-4],y_co_depots[i-4]))\n",
    "    elif i>7 and i<12:\n",
    "        depot_co[i]=np.array((x_co_depots[i-8],y_co_depots[i-8]))\n",
    "    elif i>11 and i<16:\n",
    "        depot_co[i]=np.array((x_co_depots[i-12],y_co_depots[i-12]))\n",
    "    elif i>15 and i<20:\n",
    "        depot_co[i]=np.array((x_co_depots[i-16],y_co_depots[i-16]))\n",
    "    elif i>19 and i<24:\n",
    "        depot_co[i]=np.array((x_co_depots[i-20],y_co_depots[i-20]))\n",
    "    elif i>23 and i<28:\n",
    "        depot_co[i]=np.array((x_co_depots[i-24],y_co_depots[i-24]))"
   ]
  },
  {
   "cell_type": "code",
   "execution_count": 173,
   "id": "81a6bd23-84e0-4895-a4ff-1f4b84c3273a",
   "metadata": {},
   "outputs": [],
   "source": [
    "depot_co = np.zeros((num_vehs,2))\n",
    "\n",
    "depots = {\n",
    "    0 : [-5,-5],\n",
    "    1 : [5,5],\n",
    "    2 : [-5,5],\n",
    "    3 : [5,-5],\n",
    "}\n",
    "\n",
    "counter = 0\n",
    "for i in range(num_vehs):\n",
    "    if counter < len(depots):\n",
    "        depot_co[i]=depots[counter]\n",
    "        counter += 1\n",
    "    else: \n",
    "        counter = 0\n",
    "        depot_co[i] = depots[counter]\n",
    "        counter += 1\n"
   ]
  },
  {
   "cell_type": "code",
   "execution_count": 209,
   "id": "d272a1fc-98a2-418f-a132-bbd6b29da5b5",
   "metadata": {},
   "outputs": [],
   "source": [
    "def dist(k,i,j):\n",
    "    end_depot = 2*num_reqs+1\n",
    "    if i == 0 and j == end_depot: \n",
    "        arc_length = 0 \n",
    "    elif (i == 0) or (i == end_depot):\n",
    "        arc_length = np.linalg.norm((depot_co[k]) - (np.array((x_co[j],y_co[j]))))\n",
    "    elif (j == 0) or (j == end_depot):\n",
    "        arc_length = np.linalg.norm((depot_co[k]) - (np.array((x_co[i],y_co[i]))))        \n",
    "    else: \n",
    "        arc_length = np.linalg.norm((np.array((x_co[i],y_co[i])) - (np.array((x_co[j],y_co[j])))))  \n",
    "    return arc_length \n"
   ]
  },
  {
   "cell_type": "code",
   "execution_count": 210,
   "id": "42ec2b02-3dea-4a15-9611-21f8a8052da0",
   "metadata": {},
   "outputs": [],
   "source": [
    "tour = [0, 119, 239, 110, 230, 115, 235, 241]"
   ]
  },
  {
   "cell_type": "code",
   "execution_count": 230,
   "id": "5f5240ea-d42d-4e57-9789-c535a51d1a04",
   "metadata": {},
   "outputs": [],
   "source": [
    "def length_tour(tour,k):\n",
    "    dist_total = sum([dist(k, tour[i], tour[i+1]) for i in range(len(tour)-1)])\n",
    "    return dist_total"
   ]
  },
  {
   "cell_type": "code",
   "execution_count": 235,
   "id": "049ce0f5-0026-4cb4-b28d-889ee08b1c6d",
   "metadata": {},
   "outputs": [],
   "source": [
    "def compute_costincrease(k,a,tour,i,j): \n",
    "    n = num_vehs\n",
    "    if i == j: #j after i, one arc deleted, three new arcs introduced \n",
    "        arc_del1 = dist(k, tour[i-1], tour[i])\n",
    "        arc_new1 = dist(k, tour[i-1], a)\n",
    "        arc_new2 = dist(k, a, a+n)\n",
    "        arc_new3 = dist(k, a+n, tour[i])\n",
    "        cost_increase = arc_new1 + arc_new2 + arc_new3 - arc_del1\n",
    "        \n",
    "    else: #j not immediately after i, 2 arcs deleted, 4 new arcs introduced \n",
    "        arc_del1 = dist(k, tour[i-1], tour[i])\n",
    "        arc_new1 = dist(k, tour[i-1], a)\n",
    "        arc_new2 = dist(k, a, tour[i])\n",
    "        \n",
    "        arc_del2 = dist(k, tour[j-1], tour[j])\n",
    "        arc_new3 = dist(k, tour[j-1], a+n)\n",
    "        arc_new4 = dist(k, a+n, tour[j])\n",
    "        cost_increase = arc_new1 + arc_new2 + arc_new3 + arc_new4 - arc_del1 - arc_del2\n",
    "    \n",
    "    return cost_increase"
   ]
  },
  {
   "cell_type": "code",
   "execution_count": 236,
   "id": "f1b45749-6a98-43d4-95d7-fd365825355a",
   "metadata": {},
   "outputs": [
    {
     "data": {
      "text/plain": [
       "26.358320633578096"
      ]
     },
     "execution_count": 236,
     "metadata": {},
     "output_type": "execute_result"
    }
   ],
   "source": [
    "compute_costincrease(0 , 100, tour, 2, 4)"
   ]
  },
  {
   "cell_type": "code",
   "execution_count": null,
   "id": "3c0ff381-2a99-420b-9542-286b74a7c0b5",
   "metadata": {},
   "outputs": [],
   "source": []
  }
 ],
 "metadata": {
  "kernelspec": {
   "display_name": "Python 3 (ipykernel)",
   "language": "python",
   "name": "python3"
  },
  "language_info": {
   "codemirror_mode": {
    "name": "ipython",
    "version": 3
   },
   "file_extension": ".py",
   "mimetype": "text/x-python",
   "name": "python",
   "nbconvert_exporter": "python",
   "pygments_lexer": "ipython3",
   "version": "3.9.7"
  }
 },
 "nbformat": 4,
 "nbformat_minor": 5
}
