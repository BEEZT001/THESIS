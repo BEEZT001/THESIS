{
 "cells": [
  {
   "cell_type": "code",
   "execution_count": 11,
   "source": [
    "from main import main\n",
    "\n",
    "\n",
    "import pandas as pd\n",
    "import numpy as np\n",
    "import copy \n",
    "from tqdm import tqdm\n",
    "import time\n",
    "\n",
    "import matplotlib.pyplot as plt"
   ],
   "outputs": [],
   "metadata": {}
  },
  {
   "cell_type": "code",
   "execution_count": 12,
   "source": [
    "results = []\n",
    "\n",
    "for i in tqdm(range(5)):#tqdm(np.arange(50,1050, step=50, dtype=int)):\n",
    "    cost, time_elap = main(sim_num=250, iters=100)\n",
    "    cost = float(cost)\n",
    "    time_elap = float(time_elap)\n",
    "    results.append([i, cost, time_elap])\n",
    "\n",
    "print(results)\n"
   ],
   "outputs": [
    {
     "output_type": "stream",
     "name": "stderr",
     "text": [
      "100%|██████████| 5/5 [05:46<00:00, 69.25s/it]"
     ]
    },
    {
     "output_type": "stream",
     "name": "stdout",
     "text": [
      "[[0, 294.24795014249145, 69.60800313949585], [1, 294.24795014249145, 72.69046783447266], [2, 295.19396850691845, 53.62875294685364], [3, 306.52559739705464, 67.48859190940857], [4, 307.889293491883, 82.81896209716797]]\n"
     ]
    },
    {
     "output_type": "stream",
     "name": "stderr",
     "text": [
      "\n"
     ]
    }
   ],
   "metadata": {}
  },
  {
   "cell_type": "code",
   "execution_count": 13,
   "source": [
    "results = pd.DataFrame((results), columns=['sim_num', 'cost', 'time'])\n",
    "print(results)"
   ],
   "outputs": [
    {
     "output_type": "stream",
     "name": "stdout",
     "text": [
      "   sim_num        cost       time\n",
      "0        0  294.247950  69.608003\n",
      "1        1  294.247950  72.690468\n",
      "2        2  295.193969  53.628753\n",
      "3        3  306.525597  67.488592\n",
      "4        4  307.889293  82.818962\n"
     ]
    }
   ],
   "metadata": {}
  },
  {
   "cell_type": "code",
   "execution_count": 14,
   "source": [
    "results.dropna(inplace=True)\n",
    "print(results)"
   ],
   "outputs": [
    {
     "output_type": "stream",
     "name": "stdout",
     "text": [
      "   sim_num        cost       time\n",
      "0        0  294.247950  69.608003\n",
      "1        1  294.247950  72.690468\n",
      "2        2  295.193969  53.628753\n",
      "3        3  306.525597  67.488592\n",
      "4        4  307.889293  82.818962\n"
     ]
    }
   ],
   "metadata": {}
  },
  {
   "cell_type": "code",
   "execution_count": 15,
   "source": [
    "fig, axs = plt.subplots(2, 1)\n",
    "\n",
    "axs[0].plot(results.sim_num, results.cost)\n",
    "axs[1].plot(results.sim_num, results.time, c=\"orange\")\n",
    "\n",
    "\n",
    "axs[0].set_xlabel('sim_num')    \n",
    "axs[1].set_xlabel('sim_num')    \n",
    "\n",
    "axs[0].set_ylabel('cost')\n",
    "axs[1].set_ylabel('time')\n",
    "\n",
    "plt.show()"
   ],
   "outputs": [
    {
     "output_type": "display_data",
     "data": {
      "image/png": "[encoded data removed]",
      "text/plain": [
       "<Figure size 432x288 with 2 Axes>"
      ]
     },
     "metadata": {
      "needs_background": "light"
     }
    }
   ],
   "metadata": {}
  }
 ],
 "metadata": {
  "orig_nbformat": 4,
  "language_info": {
   "name": "python",
   "version": "3.10.1",
   "mimetype": "text/x-python",
   "codemirror_mode": {
    "name": "ipython",
    "version": 3
   },
   "pygments_lexer": "ipython3",
   "nbconvert_exporter": "python",
   "file_extension": ".py"
  },
  "kernelspec": {
   "name": "python3",
   "display_name": "Python 3.10.1 64-bit ('thesis-HDgoxJ1Q': pipenv)"
  },
  "interpreter": {
   "hash": "8f565993f3de7ecad62fd8afae383dd61a16be8ca0a134e6e3356094d796c646"
  }
 },
 "nbformat": 4,
 "nbformat_minor": 2
}