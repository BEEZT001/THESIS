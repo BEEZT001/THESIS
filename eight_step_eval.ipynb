{
 "cells": [
  {
   "cell_type": "code",
   "execution_count": 267,
   "source": [
    "from MCTS_hybrid import *\n",
    "import numpy as np \n",
    "import timeit"
   ],
   "outputs": [],
   "metadata": {}
  },
  {
   "cell_type": "code",
   "execution_count": 59,
   "source": [
    "#only run once for getting a final solution to develop one \n",
    "\n",
    "final_node = main(sim_num=1)\n",
    "\n",
    "print(final_node)"
   ],
   "outputs": [
    {
     "output_type": "stream",
     "name": "stderr",
     "text": [
      "100%|██████████| 120/120 [00:25<00:00,  4.69it/s]"
     ]
    },
    {
     "output_type": "stream",
     "name": "stdout",
     "text": [
      "<MCTS_hybrid.MonteCarloTreeSearchNode object at 0x121af1b70>\n"
     ]
    },
    {
     "output_type": "stream",
     "name": "stderr",
     "text": [
      "\n"
     ]
    }
   ],
   "metadata": {}
  },
  {
   "cell_type": "code",
   "execution_count": 249,
   "source": [
    "test_state = initialize_state()\n",
    "actions = [1,2,6,7,3,8,4,5,9,10]\n",
    "\n",
    "\n",
    "for i in range(1,101): \n",
    "    test_state = move_allroutes(test_state, i)\n",
    "\n",
    "print(test_state[2])\n",
    "\n",
    "length_total(test_state)"
   ],
   "outputs": [
    {
     "output_type": "stream",
     "name": "stdout",
     "text": [
      "[[34, 194], [42, 212], [1, 122], [82, 201], [77, 177], [None, None], [30, 216], [97, 215], [None, None], [100, 220], [23, 134], [85, 218], [94, 130], [None, None], [44, 166]]\n"
     ]
    },
    {
     "output_type": "execute_result",
     "data": {
      "text/plain": [
       "1659.933803444198"
      ]
     },
     "metadata": {},
     "execution_count": 249
    }
   ],
   "metadata": {}
  },
  {
   "cell_type": "code",
   "execution_count": 6,
   "source": [
    "def eight_step(state): \n",
    "    '''\n",
    "    Li is the ride time of user i \n",
    "    Ai is the arrival time at vertex i \n",
    "    Bi is the beginning of service of vertex i \n",
    "    Wi is the waiting time at vertex i (time between arrival and departure of vertex i)\n",
    "    Di is the departure time of vertex  i \n",
    "\n",
    "    Aj = Di + tij \n",
    "    Bj = max{Aj, ej}\n",
    "    Di = Bi + di \n",
    "\n",
    "    Li = Bn+i - Di, should be smaller than li for every user i \n",
    "\n",
    "    The duration of route k is calculated as:\n",
    "    \n",
    "    B2n+1 - B0 (with the B'values for that specific k )\n",
    "\n",
    "    In the evaluation the following violations lead to penalties: capacity, duration, time window, ride time \n",
    "\n",
    "    '''\n",
    "    pass\n",
    "    routes = display_routes(state)\n",
    "     #this functions displays the routes in list format and stores them as elements of a list i.e. route[0] contains the route in list format for vehicle 0\n",
    "\n"
   ],
   "outputs": [],
   "metadata": {}
  },
  {
   "cell_type": "code",
   "execution_count": 206,
   "source": [
    "def get_route_duration(state):\n",
    "    earliest = state[3]\n",
    "    RI = state[2]\n",
    "    route_duaration = []\n",
    "    depot = 2*num_reqs+1\n",
    "\n",
    "    for idx, value in enumerate(RI):\n",
    "        #print(idx, value[1])\n",
    "        if value[1] != None:\n",
    "            duration = earliest[value[1]] + dist(idx, value[1], depot)\n",
    "            route_duaration.append(duration)\n",
    "        else: \n",
    "            route_duaration.append(0)\n",
    "\n",
    "    return route_duaration\n"
   ],
   "outputs": [],
   "metadata": {}
  },
  {
   "cell_type": "code",
   "execution_count": 207,
   "source": [
    "def get_user_ride_time(state):\n",
    "    earliest = state[3]\n",
    "\n",
    "    routes = display_routes(state)\n",
    "\n",
    "    L_actual = np.zeros(num_reqs+2)\n",
    "\n",
    "    for route in routes:\n",
    "        for vertex in route: \n",
    "            #Li = Bn+i - Di\n",
    "            if 0 < vertex <= num_reqs:\n",
    "                L_actual[vertex] = earliest[vertex+num_reqs] - (earliest[vertex] + s[vertex])\n",
    "    return L_actual "
   ],
   "outputs": [],
   "metadata": {}
  },
  {
   "cell_type": "code",
   "execution_count": 150,
   "source": [
    "final_node = main(sim_num=1)"
   ],
   "outputs": [
    {
     "output_type": "stream",
     "name": "stderr",
     "text": [
      "100%|██████████| 120/120 [00:35<00:00,  3.38it/s]\n"
     ]
    }
   ],
   "metadata": {}
  },
  {
   "cell_type": "code",
   "execution_count": 203,
   "source": [
    "ride_times = get_user_ride_time(final_node.state)\n",
    "result = ride_times <= L[:122] \n",
    "result.sum()"
   ],
   "outputs": [
    {
     "output_type": "execute_result",
     "data": {
      "text/plain": [
       "39"
      ]
     },
     "metadata": {},
     "execution_count": 203
    }
   ],
   "metadata": {}
  },
  {
   "cell_type": "code",
   "execution_count": 204,
   "source": [
    "route_durations = get_route_duration(final_node.state)\n",
    "route_duaration"
   ],
   "outputs": [
    {
     "output_type": "execute_result",
     "data": {
      "text/plain": [
       "[369.1813509708927,\n",
       " 0,\n",
       " 0,\n",
       " 0,\n",
       " 106.85777994485409,\n",
       " 208.64854515884682,\n",
       " 0,\n",
       " 0,\n",
       " 0,\n",
       " 455.53942808389417,\n",
       " 119.82832123126138,\n",
       " 0,\n",
       " 0,\n",
       " 422.0867872435876,\n",
       " 198.88128200265038]"
      ]
     },
     "metadata": {},
     "execution_count": 204
    }
   ],
   "metadata": {}
  },
  {
   "cell_type": "code",
   "execution_count": 273,
   "source": [
    "%time new_state = move_allroutes(test_state, 110)\n",
    "print(new_state[2])"
   ],
   "outputs": [
    {
     "output_type": "stream",
     "name": "stdout",
     "text": [
      "CPU times: user 14.9 ms, sys: 3.79 ms, total: 18.7 ms\n",
      "Wall time: 16 ms\n",
      "[[34, 194], [42, 212], [1, 122], [82, 201], [77, 177], [None, None], [30, 216], [97, 230], [None, None], [100, 220], [23, 134], [85, 218], [94, 130], [None, None], [44, 166]]\n"
     ]
    }
   ],
   "metadata": {}
  },
  {
   "cell_type": "code",
   "execution_count": 275,
   "source": [
    "%time new_state = move(test_state, 110)\n",
    "print(new_state[2])"
   ],
   "outputs": [
    {
     "output_type": "stream",
     "name": "stdout",
     "text": [
      "CPU times: user 5.28 ms, sys: 371 µs, total: 5.65 ms\n",
      "Wall time: 5.4 ms\n",
      "[[34, 194], [42, 212], [1, 122], [82, 201], [110, 177], [None, None], [30, 216], [97, 215], [None, None], [100, 220], [23, 134], [85, 218], [94, 130], [None, None], [44, 166]]\n"
     ]
    }
   ],
   "metadata": {}
  },
  {
   "cell_type": "code",
   "execution_count": null,
   "source": [],
   "outputs": [],
   "metadata": {}
  }
 ],
 "metadata": {
  "orig_nbformat": 4,
  "language_info": {
   "name": "python",
   "version": "3.10.1",
   "mimetype": "text/x-python",
   "codemirror_mode": {
    "name": "ipython",
    "version": 3
   },
   "pygments_lexer": "ipython3",
   "nbconvert_exporter": "python",
   "file_extension": ".py"
  },
  "kernelspec": {
   "name": "python3",
   "display_name": "Python 3.10.1 64-bit"
  },
  "interpreter": {
   "hash": "7e1998ff7f8aa20ada591c520b972326324e5ea05489af9e422744c7c09f6dad"
  }
 },
 "nbformat": 4,
 "nbformat_minor": 2
}